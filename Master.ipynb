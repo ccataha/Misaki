{
  "nbformat": 4,
  "nbformat_minor": 0,
  "metadata": {
    "colab": {
      "name": "Master.ipynb",
      "provenance": [],
      "collapsed_sections": []
    },
    "kernelspec": {
      "display_name": "Python 3",
      "name": "python3"
    },
    "language_info": {
      "name": "python"
    }
  },
  "cells": [
    {
      "cell_type": "code",
      "metadata": {
        "colab": {
          "base_uri": "https://localhost:8080/"
        },
        "id": "1x4w5dv3XvIW",
        "outputId": "04efde6e-250f-4904-b988-49dd877beb68"
      },
      "source": [
        "from google.colab import drive\n",
        "drive.mount('/content/drive')"
      ],
      "execution_count": null,
      "outputs": [
        {
          "name": "stdout",
          "output_type": "stream",
          "text": [
            "Mounted at /content/drive\n"
          ]
        }
      ]
    },
    {
      "cell_type": "markdown",
      "metadata": {
        "id": "iLDYX7f3R8PM"
      },
      "source": [
        "Импорт нужных модулей."
      ]
    },
    {
      "cell_type": "code",
      "metadata": {
        "id": "MSu0tV9mMFDK"
      },
      "source": [
        "from tensorflow.keras.layers import *\n",
        "from tensorflow.keras.metrics import *\n",
        "from tensorflow.keras.models import Sequential, Model\n",
        "import numpy as np\n",
        "import pandas as pd\n",
        "import os\n",
        "import tensorflow.keras.backend as K\n",
        "from sklearn.metrics import *\n",
        "from tensorflow.keras.utils import to_categorical\n",
        "import tensorflow as tf\n",
        "from tensorflow.keras.layers.experimental import preprocessing\n",
        "from sklearn.preprocessing import MinMaxScaler\n",
        "import pickle"
      ],
      "execution_count": null,
      "outputs": []
    },
    {
      "cell_type": "markdown",
      "metadata": {
        "id": "-GNdLr-wSD7k"
      },
      "source": [
        "Объявление переменных"
      ]
    },
    {
      "cell_type": "code",
      "metadata": {
        "id": "EXeYRrdAKXLr"
      },
      "source": [
        "path = '/content/drive/MyDrive/CICIDS2017/data_nn'\n",
        "\n",
        "data = []\n",
        "target = []"
      ],
      "execution_count": null,
      "outputs": []
    },
    {
      "cell_type": "markdown",
      "metadata": {
        "id": "TsfczGW6SIp7"
      },
      "source": [
        "Чтение датасета."
      ]
    },
    {
      "cell_type": "code",
      "metadata": {
        "id": "vhXcfO4oaRi4"
      },
      "source": [
        "for name in os.listdir(path):\n",
        "    file = pd.read_csv(os.path.join(path, name))\n",
        "    for n, i in file.iterrows():\n",
        "        a = []\n",
        "        for j in i[:-1]:\n",
        "          a.append(j)\n",
        "        data.append(a)\n",
        "\n",
        "        target.append(0 if i[-1] == 'BENIGN' else 1)\n",
        "del file"
      ],
      "execution_count": null,
      "outputs": []
    },
    {
      "cell_type": "markdown",
      "metadata": {
        "id": "A34qan4rTza_"
      },
      "source": [
        "Обработка данных"
      ]
    },
    {
      "cell_type": "code",
      "metadata": {
        "colab": {
          "base_uri": "https://localhost:8080/"
        },
        "id": "kq7rb8uKTEH2",
        "outputId": "cc509fb6-33fe-42fb-d1a3-c9b646373ae7"
      },
      "source": [
        "data = np.array(data)\n",
        "target = np.array(target)\n",
        "print(data.shape, target.shape)"
      ],
      "execution_count": null,
      "outputs": [
        {
          "name": "stdout",
          "output_type": "stream",
          "text": [
            "(2830743, 78) (2830743,)\n"
          ]
        }
      ]
    },
    {
      "cell_type": "markdown",
      "metadata": {
        "id": "jiooPSVpAiId"
      },
      "source": [
        "Подготовка данных для нормализации"
      ]
    },
    {
      "cell_type": "code",
      "metadata": {
        "colab": {
          "base_uri": "https://localhost:8080/"
        },
        "id": "y5grlnWHM8yq",
        "outputId": "779dee18-9e23-4736-9bb6-543f8758d387"
      },
      "source": [
        "scaler = MinMaxScaler(feature_range=(-1,1))\n",
        "scaler.fit(np.nan_to_num(data).astype(float))\n",
        "data = scaler.transform(np.nan_to_num(data).astype(float))\n",
        "data = data.reshape(data.shape[0], 78, 1)"
      ],
      "execution_count": null,
      "outputs": [
        {
          "name": "stderr",
          "output_type": "stream",
          "text": [
            "/usr/local/lib/python3.7/dist-packages/numpy/core/fromnumeric.py:87: RuntimeWarning: overflow encountered in reduce\n",
            "  return ufunc.reduce(obj, axis, dtype, out, **passkwargs)\n",
            "/usr/local/lib/python3.7/dist-packages/numpy/core/fromnumeric.py:87: RuntimeWarning: overflow encountered in reduce\n",
            "  return ufunc.reduce(obj, axis, dtype, out, **passkwargs)\n"
          ]
        }
      ]
    },
    {
      "cell_type": "markdown",
      "metadata": {
        "id": "fUV3cphYAqhU"
      },
      "source": [
        "Сохранение нормализатора"
      ]
    },
    {
      "cell_type": "code",
      "metadata": {
        "id": "iWT07_vYGR1r"
      },
      "source": [
        "pickle.dump(scaler, open('/content/drive/MyDrive/scaler.pkl', 'wb'))"
      ],
      "execution_count": null,
      "outputs": []
    },
    {
      "cell_type": "markdown",
      "metadata": {
        "id": "WhCFTFSwSQiT"
      },
      "source": [
        "Моделирование нейросети"
      ]
    },
    {
      "cell_type": "markdown",
      "metadata": {
        "id": "C8Jtfu0IcJiQ"
      },
      "source": [
        "Difference betwen backup:\n",
        "1. reccurent activation = 'relu' (sigmoid)\n",
        "2. range (4) ((3))"
      ]
    },
    {
      "cell_type": "code",
      "metadata": {
        "id": "00fuAt0ONpiD"
      },
      "source": [
        "lstm = Sequential()\n",
        "lstm.add(Input((78, 1)))\n",
        "lstm.add(LSTM(32, recurrent_activation='relu', return_sequences=True, recurrent_dropout=0))\n",
        "for i in range(4):\n",
        "  lstm.add(LSTM(32, recurrent_activation='relu', return_sequences=True, recurrent_dropout=0))\n",
        "lstm.add(Flatten())\n",
        "lstm.add(Dense(2,activation = 'softmax'))\n",
        "lstm.compile(optimizer='adam', loss='binary_crossentropy', metrics='accuracy')"
      ],
      "execution_count": null,
      "outputs": []
    },
    {
      "cell_type": "markdown",
      "metadata": {
        "id": "jEtpubU7T5L3"
      },
      "source": [
        "Тренировка нейросети"
      ]
    },
    {
      "cell_type": "code",
      "metadata": {
        "colab": {
          "background_save": true,
          "base_uri": "https://localhost:8080/"
        },
        "id": "Cz_Z40v3Tpws",
        "outputId": "aeed0062-c935-49f0-a459-233093dff51d"
      },
      "source": [
        "lstm.fit(data, to_categorical(target), epochs=10, batch_size=256, verbose=1)\n",
        "lstm.save('/content/drive/MyDrive/lstm.h5')"
      ],
      "execution_count": null,
      "outputs": [
        {
          "name": "stdout",
          "output_type": "stream",
          "text": [
            "Epoch 1/10\n",
            "11058/11058 [==============================] - 3579s 324ms/step - loss: 0.4962 - accuracy: 0.8030\n",
            "Epoch 2/10\n",
            "11058/11058 [==============================] - 3568s 323ms/step - loss: 0.4962 - accuracy: 0.8030\n",
            "Epoch 3/10\n",
            "11058/11058 [==============================] - 3632s 328ms/step - loss: 0.4962 - accuracy: 0.8030\n",
            "Epoch 4/10\n",
            "11058/11058 [==============================] - 3634s 329ms/step - loss: 0.4962 - accuracy: 0.8030\n",
            "Epoch 5/10\n",
            "11058/11058 [==============================] - 3618s 327ms/step - loss: 0.4962 - accuracy: 0.8030\n",
            "Epoch 6/10\n",
            "11058/11058 [==============================] - 3605s 326ms/step - loss: 0.4962 - accuracy: 0.8030\n",
            "Epoch 7/10\n",
            "11058/11058 [==============================] - 3577s 323ms/step - loss: 0.4962 - accuracy: 0.8030\n",
            "Epoch 8/10\n",
            "11058/11058 [==============================] - 3539s 320ms/step - loss: 0.4962 - accuracy: 0.8030\n",
            "Epoch 9/10\n",
            "11058/11058 [==============================] - 3517s 318ms/step - loss: 0.4962 - accuracy: 0.8030\n",
            "Epoch 10/10\n",
            " 6108/11058 [===============>..............] - ETA: 26:06 - loss: 0.4962 - accuracy: 0.8030"
          ]
        }
      ]
    },
    {
      "cell_type": "markdown",
      "metadata": {
        "id": "mHCQU3U0IpOn"
      },
      "source": [
        "Получение данных от нейросети"
      ]
    },
    {
      "cell_type": "code",
      "metadata": {
        "id": "qfcQ8hJ8EAAQ"
      },
      "source": [
        "y_pred1 = lstm.predict(data, batch_size=1024)\n",
        "y_pred = np.argmax(y_pred1, axis=1)"
      ],
      "execution_count": null,
      "outputs": []
    },
    {
      "cell_type": "markdown",
      "metadata": {
        "id": "5-_VYSkLItOW"
      },
      "source": [
        "Вычисление метрик и количества пакетов с атакой и без"
      ]
    },
    {
      "cell_type": "code",
      "metadata": {
        "colab": {
          "base_uri": "https://localhost:8080/"
        },
        "id": "x1x6fhcqEGwn",
        "outputId": "eb10f8e7-e529-4680-a652-e9766cc21170"
      },
      "source": [
        "print('recall:', recall_score(target, y_pred, average='micro'))\n",
        "print('precision:', precision_score(target, y_pred, average='micro'))\n",
        "print('accuracy:', accuracy_score(target, y_pred))\n",
        "print('f1 score:', f1_score(target, y_pred, average='micro'))\n",
        "print('ROC AUC:', roc_auc_score(target, y_pred))\n",
        "print('матрица неточностей', confusion_matrix(target, y_pred))\n",
        "unique, counts = np.unique(y_pred, return_counts=True)\n",
        "count_list = dict(zip(unique, counts))\n",
        "print('Нейросеть решила, что', count_list[1], 'пакетов это атака')\n",
        "print('А', count_list[0], 'не атака')"
      ],
      "execution_count": null,
      "outputs": [
        {
          "name": "stdout",
          "output_type": "stream",
          "text": [
            "recall: 0.876659944050025\n",
            "precision: 0.876659944050025\n",
            "accuracy: 0.876659944050025\n",
            "f1 score: 0.876659944050025\n",
            "ROC AUC: 0.7092836086821249\n",
            "матрица неточностей [[2240089   33008]\n",
            " [ 316136  241510]]\n",
            "Нейросеть решила, что 274518 пакетов это атака\n",
            "А 2556225 не атака\n"
          ]
        }
      ]
    },
    {
      "cell_type": "markdown",
      "metadata": {
        "id": "_aa2qkaxI5xv"
      },
      "source": [
        "Чтение датасета для второй нейросети. KNN"
      ]
    },
    {
      "cell_type": "code",
      "metadata": {
        "id": "bC8ajhVkKaU5"
      },
      "source": [
        "data = []\n",
        "target = []\n",
        "last = []\n",
        "for name in os.listdir(path):\n",
        "    file = pd.read_csv(os.path.join(path, name))\n",
        "    for n, i in file.iterrows():\n",
        "        if not i[-1] in last:\n",
        "            last.append(i[-1])\n",
        "        if last.index(i[-1]) != 0:\n",
        "          a = []\n",
        "          for j in i[:-1]:\n",
        "              a.append(j)\n",
        "          data.append(a)\n",
        "          target.append(last.index(i[-1])-1)\n",
        "del file\n",
        "del last[0]"
      ],
      "execution_count": null,
      "outputs": []
    },
    {
      "cell_type": "markdown",
      "metadata": {
        "id": "Jm1QbPYgI_U2"
      },
      "source": [
        "Обработка"
      ]
    },
    {
      "cell_type": "code",
      "metadata": {
        "id": "J8ugDynbN4Ah"
      },
      "source": [
        "data = np.array(data)\n",
        "target = np.array(target)\n",
        "data = data.reshape(data.shape[0], 78)\n",
        "print(data.shape, target.shape)"
      ],
      "execution_count": null,
      "outputs": []
    },
    {
      "cell_type": "markdown",
      "metadata": {
        "id": "4Bk4IdtCA7ss"
      },
      "source": [
        "Загрузка нормализатора"
      ]
    },
    {
      "cell_type": "code",
      "metadata": {
        "id": "LPSWb5R1HYDw"
      },
      "source": [
        "scaler = pickle.load(open('/content/drive/MyDrive/scaler.pkl', 'rb'))"
      ],
      "execution_count": null,
      "outputs": []
    },
    {
      "cell_type": "markdown",
      "metadata": {
        "id": "RWd6LwZbBAeT"
      },
      "source": [
        "Нормализация данных для второй нейросети"
      ]
    },
    {
      "cell_type": "code",
      "metadata": {
        "id": "BCLkQqLq51hu"
      },
      "source": [
        "data = scaler.transform(np.nan_to_num(data).astype(float))"
      ],
      "execution_count": null,
      "outputs": []
    },
    {
      "cell_type": "markdown",
      "metadata": {
        "id": "r-li25gkJCVe"
      },
      "source": [
        "Моделирование второй нейросети"
      ]
    },
    {
      "cell_type": "code",
      "metadata": {
        "id": "tJNq4crHB8GM"
      },
      "source": [
        "knn = Sequential()\n",
        "knn.add(InputLayer((78,)))\n",
        "knn.add(BatchNormalization())\n",
        "knn.add(Dense(128, activation='relu'))\n",
        "knn.add(Dense(128, activation='relu'))\n",
        "knn.add(Dense(14, activation='softmax'))\n",
        "#optimizer = tf.keras.optimizers.Adam(learning_rate=1e-4)\n",
        "knn.compile(optimizer='adam', loss='sparse_categorical_crossentropy', metrics='accuracy')"
      ],
      "execution_count": null,
      "outputs": []
    },
    {
      "cell_type": "markdown",
      "metadata": {
        "id": "22Q88hM6JFMI"
      },
      "source": [
        "Тренировка второй нейросети"
      ]
    },
    {
      "cell_type": "code",
      "metadata": {
        "id": "v2kScnK6_cTZ"
      },
      "source": [
        "knn.fit(data.astype(float), target, epochs=10, batch_size=256, verbose=1)\n",
        "\n",
        "knn.save('/content/drive/MyDrive/knn.h5')"
      ],
      "execution_count": null,
      "outputs": []
    },
    {
      "cell_type": "markdown",
      "metadata": {
        "id": "crodovKFJHpu"
      },
      "source": [
        "Получение данных со второй нейросети"
      ]
    },
    {
      "cell_type": "code",
      "metadata": {
        "id": "nDOmyBHxF7xc"
      },
      "source": [
        "y_pred1 = knn.predict(data)\n",
        "y_pred = np.argmax(y_pred1, axis=1)"
      ],
      "execution_count": null,
      "outputs": []
    },
    {
      "cell_type": "markdown",
      "metadata": {
        "id": "XV3IqZTrJohu"
      },
      "source": [
        "Вычисление метрик и количество классов"
      ]
    },
    {
      "cell_type": "code",
      "metadata": {
        "colab": {
          "base_uri": "https://localhost:8080/"
        },
        "id": "JG3YS255F-cN",
        "outputId": "b514d46e-cc63-42bb-81c4-66aeac0cffc2"
      },
      "source": [
        "print('recall:', recall_score(target, y_pred, average='micro'))\n",
        "print('precision:', precision_score(target, y_pred, average='micro'))\n",
        "print('accuracy:', accuracy_score(target, y_pred))\n",
        "print('f1 score:', f1_score(target, y_pred, average='micro'))\n",
        "print('ROC AUC:', roc_auc_score(to_categorical(target), np.nan_to_num(y_pred1), multi_class='ovr'))\n",
        "print('матрица неточностей', confusion_matrix(target, y_pred))\n",
        "unique, counts = np.unique(y_pred, return_counts=True)\n",
        "count_list = dict(zip(unique, counts))\n",
        "print('Классы:')\n",
        "for i in count_list:\n",
        "  print(last[i], count_list[i])"
      ],
      "execution_count": null,
      "outputs": [
        {
          "name": "stdout",
          "output_type": "stream",
          "text": [
            "recall: 0.9976920842254764\n",
            "precision: 0.9976920842254764\n",
            "accuracy: 0.9976920842254764\n",
            "f1 score: 0.9976920842254764\n",
            "ROC AUC: 0.9997288439737718\n",
            "матрица неточностей [[127926      2      7      0      0      0      0      0      1      0\n",
            "       0     91      0      0]\n",
            " [     0 158836      0      0      9      0      0      0      4     18\n",
            "       3     58      2      0]\n",
            " [     0      0   1959      0      0      0      0      0      1      0\n",
            "       0      6      0      0]\n",
            " [     1      0      1     33      0      0      0      0      1      0\n",
            "       0      0      0      0]\n",
            " [     0      3      0      0   1359      1      0      0    143      0\n",
            "       0      0      1      0]\n",
            " [     0      2      0      0    607     16      0      0      6      0\n",
            "       0     17      4      0]\n",
            " [     0      0      0      0      4      0      0      0      8      0\n",
            "       0      1      8      0]\n",
            " [     0      1      0      0      1      0      0   7912      6      7\n",
            "       0     11      0      0]\n",
            " [     0      0      0      0      0      0      0     12   5860      2\n",
            "       0     23      0      0]\n",
            " [     2      1      0      0      4      0      0      1      5   5721\n",
            "      53      4      5      0]\n",
            " [     0      1      0      0      4      0      0      0      3     24\n",
            "    5457      4      6      0]\n",
            " [     0      0      0      0      4      0      0      0      1      0\n",
            "       0 231067      1      0]\n",
            " [     0      0      0      0      0      0      0      0      0      0\n",
            "       8     83  10202      0]\n",
            " [     0      0      0      0      0      0      0      0      0      0\n",
            "       0      0      0     11]]\n",
            "Классы:\n",
            "DDoS 127929\n",
            "PortScan 158846\n",
            "Bot 1967\n",
            "Infiltration 33\n",
            "Web Attack � Brute Force 1992\n",
            "Web Attack � XSS 17\n",
            "FTP-Patator 7925\n",
            "SSH-Patator 6039\n",
            "DoS slowloris 5772\n",
            "DoS Slowhttptest 5521\n",
            "DoS Hulk 231365\n",
            "DoS GoldenEye 10229\n",
            "Heartbleed 11\n"
          ]
        }
      ]
    },
    {
      "cell_type": "markdown",
      "metadata": {
        "id": "9bF6VJdRaaHG"
      },
      "source": [
        "-"
      ]
    },
    {
      "cell_type": "markdown",
      "metadata": {
        "id": "XlRaA9XTaaD7"
      },
      "source": [
        "-"
      ]
    },
    {
      "cell_type": "markdown",
      "metadata": {
        "id": "aSKcZe-KaaBH"
      },
      "source": [
        "-"
      ]
    },
    {
      "cell_type": "markdown",
      "metadata": {
        "id": "dO9ES_jxT8T3"
      },
      "source": [
        "Здесь начинается проверка нейросети"
      ]
    },
    {
      "cell_type": "code",
      "metadata": {
        "id": "nHOZ8IRfL_gv"
      },
      "source": [
        "from tensorflow.keras.models import load_model\n",
        "import numpy as np\n",
        "import pandas as pd"
      ],
      "execution_count": null,
      "outputs": []
    },
    {
      "cell_type": "markdown",
      "metadata": {
        "id": "jvzsgqr5VL20"
      },
      "source": [
        "Загрузка заранее обученной нейросети"
      ]
    },
    {
      "cell_type": "code",
      "metadata": {
        "id": "LtWFL5iIMXN7"
      },
      "source": [
        "lstm = load_model('/content/drive/MyDrive/lstm.h5')\n",
        "knn = load_model('/content/drive/MyDrive/knn.h5')"
      ],
      "execution_count": null,
      "outputs": []
    },
    {
      "cell_type": "markdown",
      "metadata": {
        "id": "lIzmB8aIVi6y"
      },
      "source": [
        "Загрузка данных для тестирования нейросети"
      ]
    },
    {
      "cell_type": "code",
      "metadata": {
        "id": "6oNpuFZ_Mm-j"
      },
      "source": [
        "file = pd.read_csv('/content/drive/MyDrive/net/Tuesday-WorkingHours.pcap_ISCX.csv')\n",
        "data = []\n",
        "target = []\n",
        "\n",
        "for n, i in file.iterrows():\n",
        "        a = []\n",
        "        for j in i[:-1]:\n",
        "          a.append(j)\n",
        "        data.append(a)\n",
        "        target.append(last.index(i[-1]))"
      ],
      "execution_count": null,
      "outputs": []
    },
    {
      "cell_type": "markdown",
      "metadata": {
        "id": "AWavdC4SX2sX"
      },
      "source": [
        "Обработка данных"
      ]
    },
    {
      "cell_type": "code",
      "metadata": {
        "id": "Fdlqg0FNNoYI"
      },
      "source": [
        "data = np.array(data)\n",
        "target = np.array(target)\n",
        "data = data.reshape(data.shape[0], 78, 1)\n",
        "print(data.shape, target.shape)"
      ],
      "execution_count": null,
      "outputs": []
    },
    {
      "cell_type": "markdown",
      "metadata": {
        "id": "_PU5KkSHX519"
      },
      "source": [
        "Проверка нейросети"
      ]
    },
    {
      "cell_type": "code",
      "metadata": {
        "id": "wLb1e3ayN6uf"
      },
      "source": [
        "model.evaluate(data, target)"
      ],
      "execution_count": null,
      "outputs": []
    },
    {
      "cell_type": "markdown",
      "metadata": {
        "id": "sdqWagy7X9st"
      },
      "source": [
        "Предсказание нейросети"
      ]
    },
    {
      "cell_type": "code",
      "metadata": {
        "id": "MfNsLrYfOAYg"
      },
      "source": [
        "pred = model.predict(data)"
      ],
      "execution_count": null,
      "outputs": []
    },
    {
      "cell_type": "markdown",
      "metadata": {
        "id": "vi5kun4zYBRM"
      },
      "source": [
        "Определение класса предсказанния нейросети"
      ]
    },
    {
      "cell_type": "code",
      "metadata": {
        "colab": {
          "base_uri": "https://localhost:8080/",
          "height": 163
        },
        "id": "WNnK1RJtRzgt",
        "outputId": "1d03e3af-e0e5-4eef-cb08-0d3ecbbd41d6"
      },
      "source": [
        "print(last[np.argmax(pred[5])])"
      ],
      "execution_count": null,
      "outputs": [
        {
          "ename": "NameError",
          "evalue": "ignored",
          "output_type": "error",
          "traceback": [
            "\u001b[0;31m---------------------------------------------------------------------------\u001b[0m",
            "\u001b[0;31mNameError\u001b[0m                                 Traceback (most recent call last)",
            "\u001b[0;32m<ipython-input-1-f92676e44a54>\u001b[0m in \u001b[0;36m<module>\u001b[0;34m()\u001b[0m\n\u001b[0;32m----> 1\u001b[0;31m \u001b[0mprint\u001b[0m\u001b[0;34m(\u001b[0m\u001b[0mlast\u001b[0m\u001b[0;34m[\u001b[0m\u001b[0mnp\u001b[0m\u001b[0;34m.\u001b[0m\u001b[0margmax\u001b[0m\u001b[0;34m(\u001b[0m\u001b[0mpred\u001b[0m\u001b[0;34m[\u001b[0m\u001b[0;36m5\u001b[0m\u001b[0;34m]\u001b[0m\u001b[0;34m)\u001b[0m\u001b[0;34m]\u001b[0m\u001b[0;34m)\u001b[0m\u001b[0;34m\u001b[0m\u001b[0;34m\u001b[0m\u001b[0m\n\u001b[0m",
            "\u001b[0;31mNameError\u001b[0m: name 'last' is not defined"
          ]
        }
      ]
    }
  ]
}